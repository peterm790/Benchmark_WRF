{
 "cells": [
  {
   "cell_type": "code",
   "execution_count": 143,
   "id": "9ecb5703-2253-41d1-9e6d-1801082f1163",
   "metadata": {},
   "outputs": [],
   "source": [
    "import xarray as xr\n",
    "import zarr\n",
    "import glob\n",
    "import pandas as pd\n",
    "import numpy as np\n",
    "import warnings\n",
    "warnings.filterwarnings('ignore')\n",
    "import matplotlib.pyplot as plt"
   ]
  },
  {
   "cell_type": "code",
   "execution_count": 144,
   "id": "dac5a0e0-b73d-433f-8150-c713caadaec9",
   "metadata": {},
   "outputs": [],
   "source": [
    "zarr_dir = \"/home/peter/WRF_MODEL/zarr_out/\"\n",
    "wrf = xr.open_zarr(str(zarr_dir+'d4_1_cpt.zarr'))"
   ]
  },
  {
   "cell_type": "markdown",
   "id": "b65e1c75-4de9-49b3-8145-fa188ad72fb9",
   "metadata": {},
   "source": [
    "Each forecast is 39 hours, this function returns the forecast made x number of succesful forecast runs ago"
   ]
  },
  {
   "cell_type": "code",
   "execution_count": 145,
   "id": "8daa152a-429b-418c-aed5-106b2781f45c",
   "metadata": {},
   "outputs": [],
   "source": [
    "def get_one_cycle(ds, n):\n",
    "    steps_in_forecast = 39*4+1\n",
    "    end = steps_in_forecast*n\n",
    "    start = steps_in_forecast*(n+1)\n",
    "    x = wrf.to_array() #convert to DataArray\n",
    "    if end == 0:\n",
    "        x =  x[:,-start:]\n",
    "    else:\n",
    "        x =  x[:,-start:-end]\n",
    "    return x.to_dataset(dim = 'variable')"
   ]
  },
  {
   "cell_type": "markdown",
   "id": "e3da98aa-a5c6-44d1-9cf5-85d76deab53e",
   "metadata": {},
   "source": [
    "First let's get some observational data to reference against. Here we will use observations from the Cape Town International Airport sourced from the NOAA Integrated Surface Dataset (ISD)- https://www.ncei.noaa.gov/products/land-based-station/integrated-surface-database "
   ]
  },
  {
   "cell_type": "code",
   "execution_count": 147,
   "id": "9aeee8e2-9fe1-4cff-aab5-974ad7dc7423",
   "metadata": {},
   "outputs": [],
   "source": [
    "obs_2021 = pd.read_csv('cpt_intl_2021.csv').set_index('DATE')\n",
    "obs_2022= pd.read_csv('cpt_intl_2022.csv').set_index('DATE')\n",
    "obs_full = pd.concat([obs_2021, obs_2022])"
   ]
  },
  {
   "cell_type": "markdown",
   "id": "0fa10a4d-ed09-4a06-a7c3-5511453b218a",
   "metadata": {},
   "source": [
    "Some quick data cleaning as the ISD comes in a rather strange format "
   ]
  },
  {
   "cell_type": "code",
   "execution_count": 148,
   "id": "00d4257a-ad1a-475c-a863-d6ba7361143b",
   "metadata": {},
   "outputs": [],
   "source": [
    "wind_df = obs_full['WND'].str.split(',', expand=True).rename(columns = {0:'w_dir', 1:'w_dir_q', 2:'w_type', 3:'w_speed', 4:'w_speed_q'})\n",
    "wind_df['w_speed'] = wind_df['w_speed'].apply(lambda x: int(x)/10)\n",
    "wind_df['w_dir'] = wind_df['w_dir'].apply(lambda x: int(x))\n",
    "\n",
    "temp_df = obs_full['TMP'].str.split(',', expand = True).rename(columns = {0:'temp', 1:'temp_q'})\n",
    "temp_df['temp'] = temp_df['temp'].apply(lambda x: int(x)/10)\n",
    "obs = wind_df.join(temp_df)\n",
    "obs.replace(-999, np.nan, inplace=True)\n",
    "obs.index = pd.to_datetime(obs.index)\n",
    "\n",
    "obs = obs.rename(columns = {'temp':'T2', 'w_speed':'ws', 'w_dir':'Dir'})"
   ]
  },
  {
   "cell_type": "code",
   "execution_count": 149,
   "id": "cc194942-1a52-4366-ab98-0f67ae74382e",
   "metadata": {},
   "outputs": [],
   "source": [
    "latitude = obs_full.LATITUDE[-1]\n",
    "longitude = obs_full.LONGITUDE[-1]\n",
    "forecast = get_one_cycle(wrf, 10)\n",
    "forecast = forecast.sel(lat = latitude, method = 'nearest').sel(lon = longitude, method = 'nearest')\n",
    "forecast = forecast.resample(time='h').mean(dim= 'time')\n",
    "forecast['ws'] = forecast['ws']*0.514444444\n",
    "forecast['T2'] = forecast['T2']-273.15"
   ]
  },
  {
   "cell_type": "code",
   "execution_count": 150,
   "id": "348bc44c-41ac-405b-bbd1-d64f53c5bae3",
   "metadata": {},
   "outputs": [],
   "source": [
    "obs = obs[obs.index.isin(forecast.time.values)]\n",
    "obs = obs[~obs.index.duplicated(keep='first')]"
   ]
  },
  {
   "cell_type": "code",
   "execution_count": 151,
   "id": "09fb2f98-19d3-4440-b951-e70dd88b4e50",
   "metadata": {},
   "outputs": [],
   "source": [
    "df = obs.join(forecast.to_dataframe()[['ws','Dir','T2']].add_suffix('_forecast'))"
   ]
  },
  {
   "cell_type": "code",
   "execution_count": 152,
   "id": "343f932d-944c-4a41-98da-fd79772d5071",
   "metadata": {},
   "outputs": [
    {
     "ename": "AttributeError",
     "evalue": "'DataFrame' object has no attribute 'temp'",
     "output_type": "error",
     "traceback": [
      "\u001b[0;31m---------------------------------------------------------------------------\u001b[0m",
      "\u001b[0;31mAttributeError\u001b[0m                            Traceback (most recent call last)",
      "Input \u001b[0;32mIn [152]\u001b[0m, in \u001b[0;36m<cell line: 5>\u001b[0;34m()\u001b[0m\n\u001b[1;32m      2\u001b[0m axs\u001b[38;5;241m=\u001b[39maxs\u001b[38;5;241m.\u001b[39mflatten()\n\u001b[1;32m      4\u001b[0m df\u001b[38;5;241m.\u001b[39mT2_forecast\u001b[38;5;241m.\u001b[39mplot(color \u001b[38;5;241m=\u001b[39m \u001b[38;5;124m'\u001b[39m\u001b[38;5;124mBlue\u001b[39m\u001b[38;5;124m'\u001b[39m, ax \u001b[38;5;241m=\u001b[39m axs[\u001b[38;5;241m0\u001b[39m], lw \u001b[38;5;241m=\u001b[39m \u001b[38;5;241m3\u001b[39m)\n\u001b[0;32m----> 5\u001b[0m \u001b[43mdf\u001b[49m\u001b[38;5;241;43m.\u001b[39;49m\u001b[43mtemp\u001b[49m\u001b[38;5;241m.\u001b[39mplot(color \u001b[38;5;241m=\u001b[39m \u001b[38;5;124m'\u001b[39m\u001b[38;5;124mRed\u001b[39m\u001b[38;5;124m'\u001b[39m , ax \u001b[38;5;241m=\u001b[39m axs[\u001b[38;5;241m0\u001b[39m], lw \u001b[38;5;241m=\u001b[39m \u001b[38;5;241m3\u001b[39m)\n\u001b[1;32m      6\u001b[0m axs[\u001b[38;5;241m0\u001b[39m]\u001b[38;5;241m.\u001b[39mset_title(\u001b[38;5;124m'\u001b[39m\u001b[38;5;124mTemperature\u001b[39m\u001b[38;5;124m'\u001b[39m)\n\u001b[1;32m      8\u001b[0m df\u001b[38;5;241m.\u001b[39mws_forecast\u001b[38;5;241m.\u001b[39mplot(color \u001b[38;5;241m=\u001b[39m \u001b[38;5;124m'\u001b[39m\u001b[38;5;124mBlue\u001b[39m\u001b[38;5;124m'\u001b[39m, ax \u001b[38;5;241m=\u001b[39m axs[\u001b[38;5;241m1\u001b[39m], lw \u001b[38;5;241m=\u001b[39m \u001b[38;5;241m3\u001b[39m)\n",
      "File \u001b[0;32m~/anaconda3/lib/python3.8/site-packages/pandas/core/generic.py:5583\u001b[0m, in \u001b[0;36mNDFrame.__getattr__\u001b[0;34m(self, name)\u001b[0m\n\u001b[1;32m   5576\u001b[0m \u001b[38;5;28;01mif\u001b[39;00m (\n\u001b[1;32m   5577\u001b[0m     name \u001b[38;5;129;01mnot\u001b[39;00m \u001b[38;5;129;01min\u001b[39;00m \u001b[38;5;28mself\u001b[39m\u001b[38;5;241m.\u001b[39m_internal_names_set\n\u001b[1;32m   5578\u001b[0m     \u001b[38;5;129;01mand\u001b[39;00m name \u001b[38;5;129;01mnot\u001b[39;00m \u001b[38;5;129;01min\u001b[39;00m \u001b[38;5;28mself\u001b[39m\u001b[38;5;241m.\u001b[39m_metadata\n\u001b[1;32m   5579\u001b[0m     \u001b[38;5;129;01mand\u001b[39;00m name \u001b[38;5;129;01mnot\u001b[39;00m \u001b[38;5;129;01min\u001b[39;00m \u001b[38;5;28mself\u001b[39m\u001b[38;5;241m.\u001b[39m_accessors\n\u001b[1;32m   5580\u001b[0m     \u001b[38;5;129;01mand\u001b[39;00m \u001b[38;5;28mself\u001b[39m\u001b[38;5;241m.\u001b[39m_info_axis\u001b[38;5;241m.\u001b[39m_can_hold_identifiers_and_holds_name(name)\n\u001b[1;32m   5581\u001b[0m ):\n\u001b[1;32m   5582\u001b[0m     \u001b[38;5;28;01mreturn\u001b[39;00m \u001b[38;5;28mself\u001b[39m[name]\n\u001b[0;32m-> 5583\u001b[0m \u001b[38;5;28;01mreturn\u001b[39;00m \u001b[38;5;28;43mobject\u001b[39;49m\u001b[38;5;241;43m.\u001b[39;49m\u001b[38;5;21;43m__getattribute__\u001b[39;49m\u001b[43m(\u001b[49m\u001b[38;5;28;43mself\u001b[39;49m\u001b[43m,\u001b[49m\u001b[43m \u001b[49m\u001b[43mname\u001b[49m\u001b[43m)\u001b[49m\n",
      "\u001b[0;31mAttributeError\u001b[0m: 'DataFrame' object has no attribute 'temp'"
     ]
    },
    {
     "data": {
      "image/png": "[encoded data removed]",
      "text/plain": [
       "<Figure size 1152x288 with 3 Axes>"
      ]
     },
     "metadata": {
      "needs_background": "light"
     },
     "output_type": "display_data"
    }
   ],
   "source": [
    "fig, axs = plt.subplots(nrows=1,ncols=3,figsize=(16,4))\n",
    "axs=axs.flatten()\n",
    "\n",
    "df.T2_forecast.plot(color = 'Blue', ax = axs[0], lw = 3)\n",
    "df.temp.plot(color = 'Red' , ax = axs[0], lw = 3)\n",
    "axs[0].set_title('Temperature')\n",
    "\n",
    "df.ws_forecast.plot(color = 'Blue', ax = axs[1], lw = 3)\n",
    "df.w_speed.plot(color = 'Red' , ax = axs[1], lw = 3)\n",
    "axs[1].set_title('Wind Speed')\n",
    "\n",
    "df.Dir_forecast.plot(color = 'Blue', ax = axs[2], lw = 3, label = 'forecast')\n",
    "df.w_dir.plot(color = 'Red' , ax = axs[2], lw = 3, label = 'observed')\n",
    "axs[2].set_title('Wind Speed')\n",
    "axs[2].legend()\n",
    "\n",
    "plt.show()"
   ]
  },
  {
   "cell_type": "code",
   "execution_count": null,
   "id": "9d7ee084-555e-4f75-bce9-8f36b767c55f",
   "metadata": {},
   "outputs": [],
   "source": []
  },
  {
   "cell_type": "code",
   "execution_count": null,
   "id": "9be41111-0f5d-465c-8f2c-0886a4f76cac",
   "metadata": {},
   "outputs": [],
   "source": []
  }
 ],
 "metadata": {
  "kernelspec": {
   "display_name": "Python 3 (ipykernel)",
   "language": "python",
   "name": "python3"
  },
  "language_info": {
   "codemirror_mode": {
    "name": "ipython",
    "version": 3
   },
   "file_extension": ".py",
   "mimetype": "text/x-python",
   "name": "python",
   "nbconvert_exporter": "python",
   "pygments_lexer": "ipython3",
   "version": "3.8.12"
  }
 },
 "nbformat": 4,
 "nbformat_minor": 5
}
