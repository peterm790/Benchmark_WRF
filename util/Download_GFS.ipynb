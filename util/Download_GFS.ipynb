{
 "cells": [
  {
   "cell_type": "code",
   "execution_count": 1,
   "id": "04937198-7eec-4ac6-8169-5c277cd06d95",
   "metadata": {},
   "outputs": [],
   "source": [
    "import os\n",
    "import sys\n",
    "import time\n",
    "from datetime import datetime, timedelta\n",
    "import wget\n",
    "import sys\n",
    "from ftplib import FTP\n",
    "from multiprocessing import Pool\n",
    "import glob\n",
    "import get_gfs_parallel as get_gfs\n",
    "\n",
    "\n",
    "wrf_dir = '/home/peter/WRF_MODEL'\n",
    "run = '18'\n",
    "hours = 39\n",
    "delay = 11\n",
    "\n",
    "sleep = 120"
   ]
  },
  {
   "cell_type": "code",
   "execution_count": 4,
   "id": "c150ee84-c5e7-4863-803f-5f07d21ad5a0",
   "metadata": {},
   "outputs": [],
   "source": [
    "date = datetime.today() - timedelta(days=5)"
   ]
  },
  {
   "cell_type": "code",
   "execution_count": 6,
   "id": "e55cae03-0022-4d64-8cc9-3580b41f1db6",
   "metadata": {},
   "outputs": [],
   "source": [
    "date_string = date.strftime('%Y%m%d')\n",
    "year = date.strftime('%Y')\n",
    "month = date.strftime('%m')\n",
    "day = date.strftime('%d')"
   ]
  },
  {
   "cell_type": "code",
   "execution_count": 7,
   "id": "e52ad5cc-54c0-4819-9e2a-aea4f9a523be",
   "metadata": {},
   "outputs": [],
   "source": [
    "start = datetime(int(year), int(month), int(day), hour=int(run), minute=0, second=0)\n",
    "start = start + timedelta(hours=delay)\n",
    "end = start + timedelta(hours=hours)"
   ]
  },
  {
   "cell_type": "code",
   "execution_count": null,
   "id": "5019fb27-2e79-4b67-ab00-03f2e79edad2",
   "metadata": {},
   "outputs": [
    {
     "name": "stdout",
     "output_type": "stream",
     "text": [
      "get runs\n",
      "check\n",
      "2022-03-30 15:42:20\n"
     ]
    }
   ],
   "source": [
    "#GET_DATA\n",
    "names=[]\n",
    "for i in range(delay,int(delay+hours)+1):\n",
    "    names.append('gfs.t'+str(run)+'z.pgrb2.0p25.f'+str(i).zfill(3))\n",
    "\n",
    "\n",
    "get_gfs.is_it_runtime(date_string,run)\n",
    "\n",
    "link = str(\"https://nomads.ncep.noaa.gov/pub/data/nccf/com/gfs/prod/gfs.\"+date_string+\"/\"+str(run)+\"/atmos/\")\n",
    "data_dir = \"/mnt/C6ECF47AECF46659/DATA_2/\"\n",
    "\n",
    "pull = get_gfs.pullable_files(date_string,run,names)\n",
    "while True:\n",
    "    if len(pull) == (hours+1):\n",
    "        break\n",
    "    else:\n",
    "        print('sleep')\n",
    "        time.sleep(1200)\n",
    "        pull = get_gfs.pullable_files(date_string,run,names)\n",
    "\n",
    "\n",
    "\n",
    "links = [link+name for name in pull]\n",
    "file_dest = [data_dir+name for name in pull]\n",
    "\n",
    "if __name__ == '__main__':\n",
    "    start_time = time.time()\n",
    "    value = datetime.fromtimestamp(start_time)\n",
    "    print(value.strftime('%Y-%m-%d %H:%M:%S'))\n",
    "    pool = Pool(processes=15)\n",
    "    pooled = [pool.apply_async(get_gfs.run_wget, args=(link,file)) for link, file in zip(links,file_dest)]\n",
    "    TIMEOUT = sleep * (hours+1)\n",
    "    time.sleep(TIMEOUT)\n",
    "    down = get_gfs.get_downloaded(data_dir)\n",
    "    if len(down) == hours+1:\n",
    "        pool.terminate()\n",
    "    else:\n",
    "        time.sleep(300)\n",
    "        if len(get_gfs.get_downloaded()) > len(down):\n",
    "            print('still working be patient')\n",
    "            time.sleep(sleep * ((hours+1) - len(get_gfs.get_downloaded()))) #still woring be patient\n",
    "            pool.terminate()\n",
    "        if len(get_gfs.get_downloaded()) < hours+1:\n",
    "            while True:             #never ending retry loop\n",
    "                pool.terminate()\n",
    "                sleep = sleep + 30\n",
    "                print('attempt: ' , ((sleep - 120) / 30))\n",
    "                get_gfs.try_again(down, sleep, file_dest)\n",
    "                down = get_gfs.get_downloaded()\n",
    "                if len(down) == hours+1:\n",
    "                    pool.terminate()\n",
    "                    break\n",
    "                elif ((sleep - 120) / 30) == 3: #break after 3 attempts\n",
    "                    break\n",
    "        else:\n",
    "            pass\n",
    "\n",
    "\n",
    "\n",
    "\n",
    "down = [down for down in glob.glob(data_dir + \"*\") if down[-1] != 'p']\n",
    "print('pulled' , len(down), ' of ', hours+1, 'total after ' , round((time.time() - start_time)/3600, 2) , 'hours')\n"
   ]
  },
  {
   "cell_type": "code",
   "execution_count": null,
   "id": "cab67c80-b979-469a-9d57-37fe50555fa3",
   "metadata": {},
   "outputs": [],
   "source": []
  }
 ],
 "metadata": {
  "kernelspec": {
   "display_name": "Python 3 (ipykernel)",
   "language": "python",
   "name": "python3"
  },
  "language_info": {
   "codemirror_mode": {
    "name": "ipython",
    "version": 3
   },
   "file_extension": ".py",
   "mimetype": "text/x-python",
   "name": "python",
   "nbconvert_exporter": "python",
   "pygments_lexer": "ipython3",
   "version": "3.8.12"
  }
 },
 "nbformat": 4,
 "nbformat_minor": 5
}
