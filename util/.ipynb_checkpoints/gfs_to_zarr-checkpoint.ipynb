{
 "cells": [
  {
   "cell_type": "code",
   "execution_count": 16,
   "id": "f1dfb04c-f0a2-4947-974b-ff3a309b2115",
   "metadata": {},
   "outputs": [],
   "source": [
    "import xarray as xr\n",
    "import zarr\n",
    "import glob"
   ]
  },
  {
   "cell_type": "code",
   "execution_count": 17,
   "id": "8ab1eaf7-737b-4217-bfeb-5795e6618e9f",
   "metadata": {},
   "outputs": [],
   "source": [
    "dir = '/mnt/C6ECF47AECF46659/DATA_2/'\n",
    "files = glob.glob(dir+'*')\n",
    "files = [file for file in files if file[-1] != 'x']"
   ]
  },
  {
   "cell_type": "code",
   "execution_count": 19,
   "id": "248cfc47-7b36-422c-9bd9-54b61b16dd5f",
   "metadata": {},
   "outputs": [],
   "source": [
    "data = []\n",
    "for file in files:\n",
    "    surface_temp = xr.open_mfdataset(file,filter_by_keys={'cfVarName': 't', 'typeOfLevel': 'surface'}, engine=\"cfgrib\")\n",
    "    t2m = xr.open_mfdataset(file,filter_by_keys={'cfVarName':'t2m', 'typeOfLevel': 'heightAboveGround'}, engine=\"cfgrib\")\n",
    "    u10 = xr.open_mfdataset(file,filter_by_keys={'cfVarName':'u10', 'typeOfLevel': 'heightAboveGround'}, engine=\"cfgrib\")\n",
    "    v10 = xr.open_mfdataset(file,filter_by_keys={'cfVarName':'v10', 'typeOfLevel': 'heightAboveGround'}, engine=\"cfgrib\")\n",
    "    rh2 = xr.open_mfdataset(file,filter_by_keys={'cfVarName':'r2', 'typeOfLevel': 'heightAboveGround'}, engine=\"cfgrib\")\n",
    "    gust = xr.open_mfdataset(file,filter_by_keys={'cfVarName': 'gust', 'typeOfLevel': 'surface'}, engine=\"cfgrib\")\n",
    "    mslp = xr.open_mfdataset(file,filter_by_keys={'typeOfLevel': 'meanSea'}, engine=\"cfgrib\")[['mslet']]\n",
    "    prate = xr.open_mfdataset(file,filter_by_keys={'stepType': 'avg', 'cfVarName': 'prate', 'typeOfLevel': 'surface'}, engine=\"cfgrib\")\n",
    "    cloudfrac_low = xr.open_mfdataset(file,filter_by_keys={'stepType': 'instant','typeOfLevel': 'lowCloudLayer'}, engine=\"cfgrib\")\n",
    "    ds = xr.merge([surface_temp, t2m, u10, v10, rh2, cloudfrac_low, prate, gust, mslp], compat = 'override')\n",
    "    data.append(ds)"
   ]
  },
  {
   "cell_type": "code",
   "execution_count": 20,
   "id": "b4eac6f6-60c3-4e2a-a279-27c5b794978e",
   "metadata": {},
   "outputs": [],
   "source": [
    "ds = xr.concat(data, dim = 'valid_time')"
   ]
  },
  {
   "cell_type": "code",
   "execution_count": 21,
   "id": "2f6e789e-7e5d-4fbb-8b6c-a88f22d4a188",
   "metadata": {},
   "outputs": [],
   "source": [
    "zarr_dir = \"/home/peter/WRF_MODEL/zarr_out/\""
   ]
  },
  {
   "cell_type": "code",
   "execution_count": 22,
   "id": "8fd4cc8c-967c-460b-83da-79961b8b0995",
   "metadata": {},
   "outputs": [
    {
     "data": {
      "text/plain": [
       "<xarray.backends.zarr.ZarrStore at 0x7f1071fdecf0>"
      ]
     },
     "execution_count": 24,
     "metadata": {},
     "output_type": "execute_result"
    }
   ],
   "source": [
    "ds.to_zarr(str(zarr_dir+'GFS_.zarr_26032022'), append_dim='time', mode='a')"
   ]
  },
  {
   "cell_type": "code",
   "execution_count": null,
   "id": "efe6fd32-3376-43f6-8b01-bae348e7112e",
   "metadata": {},
   "outputs": [],
   "source": []
  },
  {
   "cell_type": "code",
   "execution_count": null,
   "id": "56e097cc-2dbf-4033-a770-46f221395e25",
   "metadata": {},
   "outputs": [],
   "source": []
  },
  {
   "cell_type": "code",
   "execution_count": null,
   "id": "f792f6e1-7da6-47ba-8de9-0db88ca4778c",
   "metadata": {},
   "outputs": [],
   "source": []
  }
 ],
 "metadata": {
  "kernelspec": {
   "display_name": "Python 3 (ipykernel)",
   "language": "python",
   "name": "python3"
  },
  "language_info": {
   "codemirror_mode": {
    "name": "ipython",
    "version": 3
   },
   "file_extension": ".py",
   "mimetype": "text/x-python",
   "name": "python",
   "nbconvert_exporter": "python",
   "pygments_lexer": "ipython3",
   "version": "3.8.12"
  }
 },
 "nbformat": 4,
 "nbformat_minor": 5
}
